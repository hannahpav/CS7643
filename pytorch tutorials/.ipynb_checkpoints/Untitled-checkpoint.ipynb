{
 "cells": [
  {
   "cell_type": "code",
   "execution_count": 1,
   "id": "9e6438ac",
   "metadata": {},
   "outputs": [],
   "source": [
    "## NOTE: Even though we use the PyTorch module, we import it with the name 'torch', which was the original name.\n",
    "import torch # torch provides basic functions, from setting a random seed (for reproducability) to creating tensors.\n",
    "import torch.nn as nn # torch.nn allows us to create a neural network.\n",
    "import torch.nn.functional as F # nn.functional give us access to the activation and loss functions.\n",
    "from torch.optim import SGD # optim contains many optimizers. Here, we're using SGD, stochastic gradient descent.\n",
    "\n",
    "import matplotlib.pyplot as plt ## matplotlib allows us to draw graphs.\n",
    "import seaborn as sns ## seaborn makes it easier to draw nice-looking graphs."
   ]
  },
  {
   "cell_type": "markdown",
   "id": "86a17786",
   "metadata": {},
   "source": [
    " "
   ]
  },
  {
   "cell_type": "code",
   "execution_count": null,
   "id": "e6b8804f",
   "metadata": {},
   "outputs": [],
   "source": [
    "class BasicNN(nn.Module): #start by creating a new class, BasicNN inherets from Module\n",
    "    def _init_(self): # initalization method for new class\n",
    "        super()._init_() # call initializationg for parent class #initalize weights nad biases\n",
    "        self.w00 = nn.Parameter(torch.tensor(1.7) requires_grad=False) #network parameter\n",
    "                #option to optimize, the weight is 1.70 so that is tensor\n",
    "                ## don't need to optimize weight, so requries_grade = False\n",
    "        self.b00 = nn.Parameter(torch.tensor(-0.85), requires_grad = False)     \n",
    "        self.w01 = nn.Parameter(roch.tensor(-40.8), requires_grad = False)\n",
    "                # create for the remaining weights and biases\n",
    "        self.w10 = nn.Paramter(torch.tensor(12.6), requires_grad = False)\n",
    "        self.b10 = nn.Parameter(torch.tensor(0.0), requires_grad = False)\n",
    "        self.w11 = nn.Parameter(torch.tensor(2.7), requires_grad = False)\n",
    "        \n",
    "        self.final_bias = nn.Paramter(torch.tensor(-16.), requires_grade = False)\n",
    "        \n",
    "        # now connect to input, activation functions, and output\n",
    "        # need forward pass through with weights nad biases we initalized\n",
    "        # second method within called forward\n",
    "        \n",
    "        def forward(self, input):\n",
    "            # new variable that is input x weight + bias\n",
    "            input_to_top_relu = input. self.w00 + self.b00\n",
    "            # then pass to relu activation\n",
    "            top_relu_output = F.relu(input_to_top_relu)"
   ]
  }
 ],
 "metadata": {
  "kernelspec": {
   "display_name": "Python 3 (ipykernel)",
   "language": "python",
   "name": "python3"
  },
  "language_info": {
   "codemirror_mode": {
    "name": "ipython",
    "version": 3
   },
   "file_extension": ".py",
   "mimetype": "text/x-python",
   "name": "python",
   "nbconvert_exporter": "python",
   "pygments_lexer": "ipython3",
   "version": "3.10.6"
  }
 },
 "nbformat": 4,
 "nbformat_minor": 5
}
