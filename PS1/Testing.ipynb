{
 "cells": [
  {
   "cell_type": "code",
   "execution_count": 2,
   "id": "007f3617",
   "metadata": {},
   "outputs": [],
   "source": [
    "import utils\n",
    "\n",
    "from unittest import TestLoader, TestResult\n",
    "from pathlib import Path\n",
    "import random\n",
    "import numpy as np"
   ]
  },
  {
   "cell_type": "code",
   "execution_count": 8,
   "id": "91056243",
   "metadata": {},
   "outputs": [
    {
     "name": "stdout",
     "output_type": "stream",
     "text": [
      "Loading training data...\n",
      "Training data loaded with 60000 images\n",
      "Loading training data...\n",
      "Training data loaded with 60000 images\n",
      "huzzah\n"
     ]
    }
   ],
   "source": [
    "def run_tests():\n",
    "    test_loader = TestLoader()\n",
    "    test_result = TestResult()\n",
    "\n",
    "    # Use resolve() to get an absolute path\n",
    "    # https://docs.python.org/3/library/pathlib.html#pathlib.Path.resolve\n",
    "    test_directory = 'tests/'\n",
    "\n",
    "    test_suite = test_loader.discover(test_directory, pattern='test_loading.py')\n",
    "    test_suite.run(result=test_result)\n",
    "\n",
    "    # See the docs for details on the TestResult object\n",
    "    # https://docs.python.org/3/library/unittest.html#unittest.TestResult\n",
    "\n",
    "    if test_result.wasSuccessful():\n",
    "        print('huzzah')\n",
    "        exit(0)\n",
    "    else:\n",
    "        # Here you can either print or log your test errors and failures\n",
    "        # test_result.errors or test_result.failures\n",
    "        print(test_result.errors)\n",
    "        print(test_result.failures)\n",
    "        exit(-1)\n",
    "\n",
    "if __name__ == '__main__':\n",
    "    run_tests()\n",
    "    "
   ]
  },
  {
   "cell_type": "code",
   "execution_count": 1,
   "id": "f18e51a1",
   "metadata": {},
   "outputs": [
    {
     "ename": "ModuleNotFoundError",
     "evalue": "No module named '_base_network'",
     "output_type": "error",
     "traceback": [
      "\u001b[1;31m---------------------------------------------------------------------------\u001b[0m",
      "\u001b[1;31mModuleNotFoundError\u001b[0m                       Traceback (most recent call last)",
      "Cell \u001b[1;32mIn[1], line 1\u001b[0m\n\u001b[1;32m----> 1\u001b[0m \u001b[38;5;28;01mimport\u001b[39;00m \u001b[38;5;21;01m_base_network\u001b[39;00m\n\u001b[0;32m      2\u001b[0m \u001b[38;5;28;01mimport\u001b[39;00m \u001b[38;5;21;01msoftmax_regression\u001b[39;00m\n",
      "\u001b[1;31mModuleNotFoundError\u001b[0m: No module named '_base_network'"
     ]
    }
   ],
   "source": [
    "import _base_network\n",
    "import softmax_regression"
   ]
  },
  {
   "cell_type": "code",
   "execution_count": 12,
   "id": "681e2958",
   "metadata": {},
   "outputs": [
    {
     "name": "stderr",
     "output_type": "stream",
     "text": [
      "..\n",
      "----------------------------------------------------------------------\n",
      "Ran 2 tests in 0.001s\n",
      "\n",
      "OK\n"
     ]
    }
   ],
   "source": [
    "!python -m unittest tests.test_loss"
   ]
  },
  {
   "cell_type": "code",
   "execution_count": 4,
   "id": "aff28bbf",
   "metadata": {},
   "outputs": [
    {
     "name": "stdout",
     "output_type": "stream",
     "text": [
      "[(<test_activation.TestActivation testMethod=test_relu>, 'Traceback (most recent call last):\\n  File \"C:\\\\Users\\\\hanna\\\\OneDrive\\\\OMSA\\\\Summer 2024\\\\CS7643\\\\Assignments\\\\PS1\\\\assignment1\\\\tests\\\\test_activation.py\", line 72, in test_relu\\n    diff = np.sum(np.abs((y - out)))\\nTypeError: unsupported operand type(s) for -: \\'float\\' and \\'NoneType\\'\\n'), (<test_activation.TestActivation testMethod=test_relu_dev>, 'Traceback (most recent call last):\\n  File \"C:\\\\Users\\\\hanna\\\\OneDrive\\\\OMSA\\\\Summer 2024\\\\CS7643\\\\Assignments\\\\PS1\\\\assignment1\\\\tests\\\\test_activation.py\", line 85, in test_relu_dev\\n    diff = np.sum(np.abs((y - out)))\\nTypeError: unsupported operand type(s) for -: \\'float\\' and \\'NoneType\\'\\n'), (<test_activation.TestActivation testMethod=test_sigmoid>, 'Traceback (most recent call last):\\n  File \"C:\\\\Users\\\\hanna\\\\OneDrive\\\\OMSA\\\\Summer 2024\\\\CS7643\\\\Assignments\\\\PS1\\\\assignment1\\\\tests\\\\test_activation.py\", line 45, in test_sigmoid\\n    diff = np.sum(np.abs((outs - y)))\\nTypeError: unsupported operand type(s) for -: \\'NoneType\\' and \\'float\\'\\n'), (<test_activation.TestActivation testMethod=test_sigmoid_dev>, 'Traceback (most recent call last):\\n  File \"C:\\\\Users\\\\hanna\\\\OneDrive\\\\OMSA\\\\Summer 2024\\\\CS7643\\\\Assignments\\\\PS1\\\\assignment1\\\\tests\\\\test_activation.py\", line 59, in test_sigmoid_dev\\n    diff = np.sum(np.abs((outs - y)))\\nTypeError: unsupported operand type(s) for -: \\'NoneType\\' and \\'float\\'\\n'), (<test_activation.TestActivation testMethod=test_softmax>, 'Traceback (most recent call last):\\n  File \"C:\\\\Users\\\\hanna\\\\OneDrive\\\\OMSA\\\\Summer 2024\\\\CS7643\\\\Assignments\\\\PS1\\\\assignment1\\\\tests\\\\test_activation.py\", line 98, in test_softmax\\n    out = self.model.softmax(x)\\n  File \"C:\\\\Users\\\\hanna\\\\OneDrive\\\\OMSA\\\\Summer 2024\\\\CS7643\\\\Assignments\\\\PS1\\\\assignment1\\\\models\\\\_base_network.py\", line 55, in softmax\\n    prob = np.exp(self.scores) / sum(np.exp(self.scores), axis=1, keepdims=True)\\nAttributeError: \\'SoftmaxRegression\\' object has no attribute \\'scores\\'\\n')]\n",
      "[]\n"
     ]
    }
   ],
   "source": [
    "def run_tests():\n",
    "    test_loader = TestLoader()\n",
    "    test_result = TestResult()\n",
    "\n",
    "    # Use resolve() to get an absolute path\n",
    "    # https://docs.python.org/3/library/pathlib.html#pathlib.Path.resolve\n",
    "    test_directory = 'tests/'\n",
    "\n",
    "    test_suite = test_loader.discover(test_directory, pattern='test_activation.py')\n",
    "    test_suite.run(result=test_result)\n",
    "\n",
    "    # See the docs for details on the TestResult object\n",
    "    # https://docs.python.org/3/library/unittest.html#unittest.TestResult\n",
    "\n",
    "    if test_result.wasSuccessful():\n",
    "        print('huzzah')\n",
    "        exit(0)\n",
    "    else:\n",
    "        # Here you can either print or log your test errors and failures\n",
    "        # test_result.errors or test_result.failures\n",
    "        print(test_result.errors)\n",
    "        print(test_result.failures)\n",
    "        exit(-1)\n",
    "\n",
    "if __name__ == '__main__':\n",
    "    run_tests()\n",
    "    "
   ]
  }
 ],
 "metadata": {
  "kernelspec": {
   "display_name": "Python 3 (ipykernel)",
   "language": "python",
   "name": "python3"
  },
  "language_info": {
   "codemirror_mode": {
    "name": "ipython",
    "version": 3
   },
   "file_extension": ".py",
   "mimetype": "text/x-python",
   "name": "python",
   "nbconvert_exporter": "python",
   "pygments_lexer": "ipython3",
   "version": "3.10.6"
  }
 },
 "nbformat": 4,
 "nbformat_minor": 5
}
